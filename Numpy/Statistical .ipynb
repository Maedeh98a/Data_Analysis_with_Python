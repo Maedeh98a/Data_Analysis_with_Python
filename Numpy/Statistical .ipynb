{
 "cells": [
  {
   "cell_type": "code",
   "execution_count": 3,
   "id": "18171661",
   "metadata": {},
   "outputs": [
    {
     "name": "stdout",
     "output_type": "stream",
     "text": [
      "input array :\n",
      " [[23 45 11]\n",
      " [20 98 43]\n",
      " [20 65 33]]\n",
      "minimum value  11\n",
      "maximum value 98\n",
      "minimum value along axis=0 [20 45 11]\n",
      "minimum value along axis=1 [11 20 20]\n",
      "maximum value along axis=0 [23 98 43]\n",
      "maximum value along axis=1 [45 98 65]\n"
     ]
    }
   ],
   "source": [
    "import numpy as np\n",
    "a = np.array([[23, 45, 11], [20, 98, 43], [20, 65, 33]])\n",
    "print('input array :\\n', a)\n",
    "\n",
    "# numpy.amin() - returns the minimum element from array \n",
    "a_min = np.amin(a)\n",
    "print('minimum value ', a_min)\n",
    "\n",
    "# numpy.amin() - returns the maximum element from array \n",
    "a_max = np.amax(a)\n",
    "print('maximum value', a_max)\n",
    "\n",
    "a_min_0 = np.amin(a, axis=0)\n",
    "print('minimum value along axis=0', a_min_0)\n",
    "\n",
    "a_min_1 = np.amin(a, axis=1)\n",
    "print('minimum value along axis=1', a_min_1)\n",
    "\n",
    "a_max_0 = np.amax(a, axis=0)\n",
    "print('maximum value along axis=0', a_max_0)\n",
    "\n",
    "a_max_1 = np.amax(a, axis=1)\n",
    "print('maximum value along axis=1', a_max_1)\n",
    "\n",
    "\n"
   ]
  },
  {
   "cell_type": "code",
   "execution_count": 4,
   "id": "d02e4aaf",
   "metadata": {},
   "outputs": [
    {
     "name": "stdout",
     "output_type": "stream",
     "text": [
      "Input array a:\n",
      " [23 45 11]\n",
      "mean value of the input array: 26.333333333333332\n"
     ]
    }
   ],
   "source": [
    "a = np.array([23, 45, 11])\n",
    "print('Input array a:\\n', a)\n",
    "print(\"mean value of the input array:\", np.mean(a))"
   ]
  },
  {
   "cell_type": "code",
   "execution_count": 5,
   "id": "bd68f251",
   "metadata": {},
   "outputs": [
    {
     "name": "stdout",
     "output_type": "stream",
     "text": [
      "\n",
      " average() without weights: 26.333333333333332\n",
      "\n",
      " average with weights: 24.454545454545453\n"
     ]
    }
   ],
   "source": [
    "print(\"\\n average() without weights:\", np.average(a))\n",
    "\n",
    "wt_arr = np.array([0.5, 2, 3])\n",
    "print(\"\\n average with weights:\", np.average(a, weights=wt_arr))"
   ]
  },
  {
   "cell_type": "code",
   "execution_count": 11,
   "id": "e417329f",
   "metadata": {},
   "outputs": [
    {
     "name": "stdout",
     "output_type": "stream",
     "text": [
      "input array a:\n",
      " [23 45 11  3  1]\n",
      "\n",
      " Median value of the input array: 11.0\n"
     ]
    }
   ],
   "source": [
    "input_arr = np.array([23, 45, 11, 3, 1])\n",
    "print(\"input array a:\\n\", input_arr)\n",
    "print(\"\\n Median value of the input array:\", np.median(input_arr))"
   ]
  },
  {
   "cell_type": "code",
   "execution_count": 12,
   "id": "abe8d9cd",
   "metadata": {},
   "outputs": [
    {
     "name": "stdout",
     "output_type": "stream",
     "text": [
      "\n",
      " standard division of the given data: 16.169106345126192\n"
     ]
    }
   ],
   "source": [
    "# numpy std() return the deviation(انحراف از معیار)\n",
    "print(\"\\n standard division of the given data:\", np.std(input_arr))"
   ]
  },
  {
   "cell_type": "code",
   "execution_count": 13,
   "id": "db331b5d",
   "metadata": {},
   "outputs": [
    {
     "name": "stdout",
     "output_type": "stream",
     "text": [
      "input array a:\n",
      " [23 45 11  3  1]\n",
      "\n",
      " Variance of the give data: 261.44000000000005\n"
     ]
    }
   ],
   "source": [
    "# numpy return variance of the given array : numpy.var():\n",
    "input_arr = np.array([23, 45, 11, 3, 1])\n",
    "print(\"input array a:\\n\", input_arr)\n",
    "print(\"\\n Variance of the give data:\", np.var(input_arr))"
   ]
  },
  {
   "cell_type": "code",
   "execution_count": 14,
   "id": "e5ae6590",
   "metadata": {},
   "outputs": [
    {
     "name": "stdout",
     "output_type": "stream",
     "text": [
      "input array a:\n",
      " [[1, 2, 3, 4], [5, 6, 7, 8], [3, 4, 5, 6]]\n",
      "\n",
      " 25th Percentile of input_arr, axis=None 3.0\n",
      "\n",
      " 25th Percentile of input_arr, axis=None [2. 3. 4. 5.]\n",
      "\n",
      " 25th Percentile of input_arr, axis=None [1.75 5.75 3.75]\n"
     ]
    }
   ],
   "source": [
    "input_arr = [[1, 2, 3, 4],\n",
    "            [5, 6, 7, 8],\n",
    "            [3, 4, 5, 6]]\n",
    "\n",
    "print(\"input array a:\\n\", input_arr)\n",
    "\n",
    "# percentile when axis=None\n",
    "print(\"\\n 25th Percentile of input_arr, axis=None\", np.percentile(input_arr, 25))\n",
    "\n",
    "# percentile when axis=0\n",
    "print(\"\\n 25th Percentile of input_arr, axis=None\", np.percentile(input_arr, 25, axis=0))\n",
    "\n",
    "# percentile when axis=1\n",
    "print(\"\\n 25th Percentile of input_arr, axis=None\", np.percentile(input_arr, 25, axis=1))\n"
   ]
  },
  {
   "cell_type": "code",
   "execution_count": null,
   "id": "cb088bab",
   "metadata": {},
   "outputs": [],
   "source": []
  }
 ],
 "metadata": {
  "kernelspec": {
   "display_name": "Python 3 (ipykernel)",
   "language": "python",
   "name": "python3"
  },
  "language_info": {
   "codemirror_mode": {
    "name": "ipython",
    "version": 3
   },
   "file_extension": ".py",
   "mimetype": "text/x-python",
   "name": "python",
   "nbconvert_exporter": "python",
   "pygments_lexer": "ipython3",
   "version": "3.10.9"
  }
 },
 "nbformat": 4,
 "nbformat_minor": 5
}
