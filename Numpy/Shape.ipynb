{
 "cells": [
  {
   "cell_type": "code",
   "execution_count": 10,
   "id": "41aac09e",
   "metadata": {},
   "outputs": [
    {
     "name": "stdout",
     "output_type": "stream",
     "text": [
      "\n",
      " before reshape:\n",
      " [2 4 6 8]\n",
      "after applying reshape(2, 2)\n",
      " [[2 4]\n",
      " [6 8]]\n",
      "\n",
      " before apply flat:\n",
      " [2 4 6 8]\n",
      "after applying flat[3]\n",
      " 8\n",
      "\n",
      " before apply flatten:\n",
      " [[2 4]\n",
      " [6 8]]\n",
      "after applying flatten\n",
      " [2 4 6 8]\n",
      "\n",
      " before apply ravel:\n",
      " [[2 4]\n",
      " [6 8]]\n",
      "after applying ravel\n",
      " [2 4 6 8]\n",
      "\n",
      " before apply transpose:\n",
      " [[2 4]\n",
      " [6 8]]\n",
      "after applying transpose\n",
      " [[2 6]\n",
      " [4 8]]\n",
      "\n",
      " before apply resize:\n",
      " [ 2  4  6  8 10 12 14 16 18]\n",
      "\n",
      " output after applying the resize\n",
      " [[ 2  4  6  8]\n",
      " [10 12 14 16]\n",
      " [18  0  0  0]\n",
      " [ 0  0  0  0]\n",
      " [ 0  0  0  0]]\n"
     ]
    }
   ],
   "source": [
    "import numpy as np \n",
    "num_array = np.arange(2, 10, 2)\n",
    "\n",
    "# reshape \n",
    "array_shape = num_array.reshape(2, 2)\n",
    "print(\"\\n before reshape:\\n\", num_array)\n",
    "print(\"after applying reshape(2, 2)\\n\", array_shape)\n",
    "\n",
    "#use of flat \n",
    "array_flat = array_shape.flat[3]\n",
    "print(\"\\n before apply flat:\\n\", num_array)\n",
    "print(\"after applying flat[3]\\n\", array_flat)\n",
    "\n",
    "# use of flatten()\n",
    "array_flatten = array_shape.flatten()\n",
    "print(\"\\n before apply flatten:\\n\", array_shape)\n",
    "print(\"after applying flatten\\n\", array_flatten)\n",
    "\n",
    "# use of ravel()\n",
    "array_ravel = array_shape.ravel()\n",
    "print(\"\\n before apply ravel:\\n\", array_shape)\n",
    "print(\"after applying ravel\\n\", array_ravel)\n",
    "\n",
    "\n",
    "# use of transpose(), transpose the axes\n",
    "array_transpose = array_shape.transpose()\n",
    "print(\"\\n before apply transpose:\\n\", array_shape)\n",
    "print(\"after applying transpose\\n\", array_transpose)\n",
    "\n",
    "# use of resize()\n",
    "a = np.arange(2, 20, 2)\n",
    "print(\"\\n before apply resize:\\n\", a)\n",
    "a.resize((5, 4))\n",
    "print(\"\\n output after applying the resize\\n\", a)"
   ]
  },
  {
   "cell_type": "code",
   "execution_count": null,
   "id": "5177d4f1",
   "metadata": {},
   "outputs": [],
   "source": []
  }
 ],
 "metadata": {
  "kernelspec": {
   "display_name": "Python 3 (ipykernel)",
   "language": "python",
   "name": "python3"
  },
  "language_info": {
   "codemirror_mode": {
    "name": "ipython",
    "version": 3
   },
   "file_extension": ".py",
   "mimetype": "text/x-python",
   "name": "python",
   "nbconvert_exporter": "python",
   "pygments_lexer": "ipython3",
   "version": "3.10.9"
  }
 },
 "nbformat": 4,
 "nbformat_minor": 5
}
