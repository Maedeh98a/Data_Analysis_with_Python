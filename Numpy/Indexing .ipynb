{
 "cells": [
  {
   "cell_type": "code",
   "execution_count": 2,
   "id": "51b001a5",
   "metadata": {},
   "outputs": [
    {
     "name": "stdout",
     "output_type": "stream",
     "text": [
      "[10 12 14 16 18]\n",
      "Slicing\n",
      "\n",
      " a[:] = [10 12 14 16 18]\n",
      "\n",
      " a[0:2] = [10 12]\n",
      "\n",
      " a[:3] = [10 12 14]\n",
      "\n",
      " a[3:] = [16 18]\n",
      "\n",
      " a[-3:-1] = [14 16]\n"
     ]
    }
   ],
   "source": [
    "import numpy as np\n",
    "\n",
    "a = np.arange(10, 20, 2)\n",
    "print(a)\n",
    "\n",
    "# slicing just until n-1 ===> pay attention to it\n",
    "print(\"Slicing\")\n",
    "print(\"\\n a[:] =\", a[:])\n",
    "print(\"\\n a[0:2] =\", a[0:2])\n",
    "print(\"\\n a[:3] =\", a[:3])\n",
    "print(\"\\n a[3:] =\", a[3:])\n",
    "print(\"\\n a[-3:-1] =\", a[-3:-1])"
   ]
  },
  {
   "cell_type": "code",
   "execution_count": 4,
   "id": "48257af6",
   "metadata": {},
   "outputs": [
    {
     "name": "stdout",
     "output_type": "stream",
     "text": [
      "[[ 0  1  2  3  4  5]\n",
      " [ 6  7  8  9 10 11]\n",
      " [12 13 14 15 16 17]\n",
      " [18 19  0  0  0  0]]\n",
      "Slicing\n",
      "\n",
      " b[0] = [0 1 2 3 4 5]\n",
      "\n",
      " b[0:2] = [[ 0  1  2  3  4  5]\n",
      " [ 6  7  8  9 10 11]]\n",
      "\n",
      " b[0:2, 0:2] = [[0 1]\n",
      " [6 7]]\n",
      "\n",
      " b[2:, 4:] = [[16 17]\n",
      " [ 0  0]]\n"
     ]
    }
   ],
   "source": [
    "# slicing the multidementionl array\n",
    "b = np.arange(20)\n",
    "b.resize(4, 6)\n",
    "print(b)\n",
    "\n",
    "# slicing just until n-1 ===> pay attention to it\n",
    "print(\"Slicing\")\n",
    "print(\"\\n b[0] =\", b[0])\n",
    "print(\"\\n b[0:2] =\", b[0:2])\n",
    "print(\"\\n b[0:2, 0:2] =\", b[0:2, 0:2])\n",
    "print(\"\\n b[2:, 4:] =\", b[2:, 4:])\n",
    "\n",
    "\n"
   ]
  },
  {
   "cell_type": "code",
   "execution_count": 5,
   "id": "e2774bc5",
   "metadata": {},
   "outputs": [
    {
     "name": "stdout",
     "output_type": "stream",
     "text": [
      "Array datatype is int32\n",
      "Memory size of one array element is 4 byte(s)\n",
      "Total memory size of array is 16 byte(s)\n",
      "Total memory size of array is 16 byte(s)\n"
     ]
    }
   ],
   "source": [
    "a = np.array([1, 2, 3, 45])\n",
    "\n",
    "print(\"Array datatype is {}\".format(a.dtype))\n",
    "\n",
    "print(\"Memory size of one array element is {} byte(s)\".format(a.itemsize))\n",
    "\n",
    "print(\"Total memory size of array is {} byte(s)\".format(a.size * a.itemsize))\n",
    "\n",
    "# we can use nbytes also to get the information about total memory size \n",
    "print(\"Total memory size of array is {} byte(s)\".format(a.nbytes))"
   ]
  },
  {
   "cell_type": "code",
   "execution_count": 7,
   "id": "475e2a95",
   "metadata": {},
   "outputs": [
    {
     "name": "stdout",
     "output_type": "stream",
     "text": [
      "Array: [ 1  2  3 45] \n",
      "DataType: int32\n",
      "Array: [ 1.  2.  3. 45.] \n",
      "DataType: float64\n"
     ]
    }
   ],
   "source": [
    "# the default dtype is 32\n",
    "# default for float is 64\n",
    "a = np.array([1, 2, 3, 45], dtype='int')\n",
    "print(\"Array:\", a, \"\\nDataType:\", a.dtype)\n",
    "b = np.array([1, 2, 3, 45], dtype='float')\n",
    "print(\"Array:\", b, \"\\nDataType:\", b.dtype)"
   ]
  },
  {
   "cell_type": "code",
   "execution_count": 4,
   "id": "7b42622b",
   "metadata": {},
   "outputs": [
    {
     "name": "stdout",
     "output_type": "stream",
     "text": [
      "Array: [ 1  2  3 45] \n",
      "DataType: int16\n"
     ]
    }
   ],
   "source": [
    "a = np.array([1, 2, 3, 45], dtype='int16')\n",
    "print(\"Array:\", a, \"\\nDataType:\", a.dtype)"
   ]
  },
  {
   "cell_type": "code",
   "execution_count": 5,
   "id": "adc2d7b4",
   "metadata": {},
   "outputs": [
    {
     "name": "stdout",
     "output_type": "stream",
     "text": [
      "Array: [ 1  2  3 45] \n",
      "DataType: int16\n"
     ]
    }
   ],
   "source": [
    "# i2 is equvalent to int16, f2 ==> float16\n",
    "a = np.array([1, 2, 3, 45], dtype='i2')\n",
    "print(\"Array:\", a, \"\\nDataType:\", a.dtype)"
   ]
  },
  {
   "cell_type": "code",
   "execution_count": 8,
   "id": "e05b32b5",
   "metadata": {},
   "outputs": [
    {
     "name": "stdout",
     "output_type": "stream",
     "text": [
      "Array: [ True False  True] \n",
      "DataType: bool\n",
      "Array: [ True False  True] \n",
      "DataType: bool\n"
     ]
    }
   ],
   "source": [
    "# data type for boolean\n",
    "b = np.array([True, False, True], dtype='bool')\n",
    "print(\"Array:\", b, \"\\nDataType:\", b.dtype)\n",
    "\n",
    "# example 2\n",
    "b = np.array([True, False, True], dtype='?')\n",
    "print(\"Array:\", b, \"\\nDataType:\", b.dtype)\n",
    "\n"
   ]
  },
  {
   "cell_type": "code",
   "execution_count": 9,
   "id": "89e9f964",
   "metadata": {},
   "outputs": [
    {
     "name": "stdout",
     "output_type": "stream",
     "text": [
      "Array:  [b'Python' b'Numpy' b'Pandas'] \n",
      "DataType |S6\n"
     ]
    }
   ],
   "source": [
    "b = np.array([\"Python\", \"Numpy\", \"Pandas\"], dtype='S')\n",
    "print(\"Array: \", b, \"\\nDataType\", b.dtype)"
   ]
  },
  {
   "cell_type": "code",
   "execution_count": 10,
   "id": "6c820241",
   "metadata": {},
   "outputs": [
    {
     "name": "stdout",
     "output_type": "stream",
     "text": [
      "Array:  ['Python' 'Numpy' 'Pandas'] \n",
      "DataType <U6\n"
     ]
    }
   ],
   "source": [
    "b = np.array([\"Python\", \"Numpy\", \"Pandas\"], dtype='U')\n",
    "print(\"Array: \", b, \"\\nDataType\", b.dtype)"
   ]
  },
  {
   "cell_type": "code",
   "execution_count": 14,
   "id": "05c63f60",
   "metadata": {},
   "outputs": [
    {
     "ename": "TypeError",
     "evalue": "data type '' not understood",
     "output_type": "error",
     "traceback": [
      "\u001b[1;31m---------------------------------------------------------------------------\u001b[0m",
      "\u001b[1;31mTypeError\u001b[0m                                 Traceback (most recent call last)",
      "Cell \u001b[1;32mIn[14], line 2\u001b[0m\n\u001b[0;32m      1\u001b[0m \u001b[38;5;28;01mimport\u001b[39;00m \u001b[38;5;21;01mnumpy\u001b[39;00m \u001b[38;5;28;01mas\u001b[39;00m \u001b[38;5;21;01mnp\u001b[39;00m\n\u001b[1;32m----> 2\u001b[0m employee \u001b[38;5;241m=\u001b[39m \u001b[43mnp\u001b[49m\u001b[38;5;241;43m.\u001b[39;49m\u001b[43mdtype\u001b[49m\u001b[43m(\u001b[49m\u001b[43m(\u001b[49m\u001b[43m[\u001b[49m\u001b[43m(\u001b[49m\u001b[38;5;124;43m'\u001b[39;49m\u001b[38;5;124;43mname\u001b[39;49m\u001b[38;5;124;43m'\u001b[39;49m\u001b[43m,\u001b[49m\u001b[43m \u001b[49m\u001b[38;5;124;43m'\u001b[39;49m\u001b[38;5;124;43mS10\u001b[39;49m\u001b[38;5;124;43m'\u001b[39;49m\u001b[43m)\u001b[49m\u001b[43m,\u001b[49m\u001b[43m \u001b[49m\u001b[43m(\u001b[49m\u001b[38;5;124;43m'\u001b[39;49m\u001b[38;5;124;43mdept\u001b[39;49m\u001b[38;5;124;43m'\u001b[39;49m\u001b[43m,\u001b[49m\u001b[43m \u001b[49m\u001b[38;5;124;43m'\u001b[39;49m\u001b[38;5;124;43mS10\u001b[39;49m\u001b[38;5;124;43m'\u001b[39;49m\u001b[43m)\u001b[49m\u001b[43m,\u001b[49m\u001b[43m \u001b[49m\u001b[43m(\u001b[49m\u001b[38;5;124;43m'\u001b[39;49m\u001b[38;5;124;43msal\u001b[39;49m\u001b[38;5;124;43m'\u001b[39;49m\u001b[43m,\u001b[49m\u001b[43m \u001b[49m\u001b[38;5;124;43m'\u001b[39;49m\u001b[38;5;124;43m14\u001b[39;49m\u001b[38;5;124;43m'\u001b[39;49m\u001b[43m)\u001b[49m\u001b[43m]\u001b[49m\u001b[43m)\u001b[49m\u001b[43m)\u001b[49m\n\u001b[0;32m      3\u001b[0m \u001b[38;5;28mprint\u001b[39m(\u001b[38;5;124m\"\u001b[39m\u001b[38;5;124mStructured Data Type:\u001b[39m\u001b[38;5;124m\"\u001b[39m, employee)\n\u001b[0;32m      5\u001b[0m emp_array \u001b[38;5;241m=\u001b[39m np\u001b[38;5;241m.\u001b[39marray([(\u001b[38;5;124m'\u001b[39m\u001b[38;5;124mJim\u001b[39m\u001b[38;5;124m'\u001b[39m, \u001b[38;5;124m'\u001b[39m\u001b[38;5;124mHR\u001b[39m\u001b[38;5;124m'\u001b[39m, \u001b[38;5;241m7000\u001b[39m), (\u001b[38;5;124m\"\u001b[39m\u001b[38;5;124mMark\u001b[39m\u001b[38;5;124m\"\u001b[39m, \u001b[38;5;124m'\u001b[39m\u001b[38;5;124mIT\u001b[39m\u001b[38;5;124m'\u001b[39m, \u001b[38;5;241m8000\u001b[39m), (\u001b[38;5;124m'\u001b[39m\u001b[38;5;124mAllen\u001b[39m\u001b[38;5;124m'\u001b[39m, \u001b[38;5;124m'\u001b[39m\u001b[38;5;124mAdmin\u001b[39m\u001b[38;5;124m'\u001b[39m, \u001b[38;5;241m10000\u001b[39m)], dtype\u001b[38;5;241m=\u001b[39memployee)\n",
      "\u001b[1;31mTypeError\u001b[0m: data type '' not understood"
     ]
    }
   ],
   "source": [
    "# ???????????????\n",
    "import numpy as np\n",
    "employee = np.dtype([('name', 'S10'), ('dept', 'S10'), ('sal', '14')])\n",
    "print(\"Structured Data Type:\", employee)\n",
    "\n",
    "emp_array = np.array([('Jim', 'HR', 7000), (\"Mark\", 'IT', 8000), ('Allen', 'Admin', 10000)], dtype=employee)\n",
    "print(\"\\nArray: \", emp_array, \"\\nDataType:\", emp_array.dtype)"
   ]
  },
  {
   "cell_type": "code",
   "execution_count": null,
   "id": "586fdf22",
   "metadata": {},
   "outputs": [],
   "source": []
  }
 ],
 "metadata": {
  "kernelspec": {
   "display_name": "Python 3 (ipykernel)",
   "language": "python",
   "name": "python3"
  },
  "language_info": {
   "codemirror_mode": {
    "name": "ipython",
    "version": 3
   },
   "file_extension": ".py",
   "mimetype": "text/x-python",
   "name": "python",
   "nbconvert_exporter": "python",
   "pygments_lexer": "ipython3",
   "version": "3.10.9"
  }
 },
 "nbformat": 4,
 "nbformat_minor": 5
}
