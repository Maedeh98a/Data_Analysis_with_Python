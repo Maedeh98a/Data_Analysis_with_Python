{
 "cells": [
  {
   "cell_type": "code",
   "execution_count": 4,
   "id": "20a703c8",
   "metadata": {},
   "outputs": [
    {
     "name": "stdout",
     "output_type": "stream",
     "text": [
      "First array -arr1: \n",
      " [[ 0.  1.  2.  3.]\n",
      " [ 4.  5.  6.  7.]\n",
      " [ 8.  9. 10. 11.]]\n",
      "second array - arr2 \n",
      " [[1. 2. 3. 4.]]\n",
      "##############\n",
      "[[ 1.  3.  5.  7.]\n",
      " [ 5.  7.  9. 11.]\n",
      " [ 9. 11. 13. 15.]]\n",
      "##############\n",
      "[[-1. -1. -1. -1.]\n",
      " [ 3.  3.  3.  3.]\n",
      " [ 7.  7.  7.  7.]]\n",
      "##############\n",
      "[[ 0.  2.  6. 12.]\n",
      " [ 4. 10. 18. 28.]\n",
      " [ 8. 18. 30. 44.]]\n",
      "##############\n",
      "[[0.         0.5        0.66666667 0.75      ]\n",
      " [4.         2.5        2.         1.75      ]\n",
      " [8.         4.5        3.33333333 2.75      ]]\n"
     ]
    }
   ],
   "source": [
    "import numpy as np\n",
    "arr1 = np.arange(12, dtype = np.float_).reshape(3, 4)\n",
    "arr2 = np.array([[1, 2, 3, 4]], dtype = np.float_)\n",
    "\n",
    "print(\"First array -arr1: \\n\", arr1)\n",
    "print(\"second array - arr2 \\n\", arr2)\n",
    "\n",
    "result_add = np.add(arr1, arr2)\n",
    "result_subtract = np.subtract(arr1, arr2)\n",
    "result_multiply = np.multiply(arr1, arr2)\n",
    "result_divide = np.divide(arr1, arr2)\n",
    "print(\"##############\")\n",
    "print(result_add)\n",
    "print(\"##############\")\n",
    "print(result_subtract)\n",
    "print(\"##############\")\n",
    "print(result_multiply)\n",
    "print(\"##############\")\n",
    "print(result_divide)"
   ]
  },
  {
   "cell_type": "code",
   "execution_count": 5,
   "id": "377b89c8",
   "metadata": {},
   "outputs": [
    {
     "name": "stdout",
     "output_type": "stream",
     "text": [
      "Output array :\n",
      " [[  0.   1.   4.   9.]\n",
      " [ 16.  25.  36.  49.]\n",
      " [ 64.  81. 100. 121.]]\n"
     ]
    }
   ],
   "source": [
    "# numpy power \n",
    "\n",
    "power_2_array = np.power(arr1, 2)\n",
    "print(\"Output array :\\n\", power_2_array)"
   ]
  },
  {
   "cell_type": "code",
   "execution_count": 8,
   "id": "d3114a9d",
   "metadata": {},
   "outputs": [
    {
     "name": "stdout",
     "output_type": "stream",
     "text": [
      "[10 23 21 11]\n",
      "[1 2 3 4]\n",
      "Output array after mod\n",
      " [0 1 0 3]\n"
     ]
    }
   ],
   "source": [
    "# the mod function returns the reminder of the division between two arrays corresponding to the elements of both the arrays.\n",
    "\n",
    "arr1 = np.array([10, 23, 21, 11])\n",
    "arr2 = np.array([1, 2, 3, 4])\n",
    "\n",
    "print(arr1)\n",
    "print(arr2)\n",
    "\n",
    "out_arr = np.mod(arr1, arr2)\n",
    "print(\"Output array after mod\\n\", out_arr)"
   ]
  },
  {
   "cell_type": "code",
   "execution_count": 9,
   "id": "b5d5b7ea",
   "metadata": {},
   "outputs": [
    {
     "name": "stdout",
     "output_type": "stream",
     "text": [
      "input array:\n",
      " [[0.5 3.  0.8]\n",
      " [4.  1.  7. ]]\n",
      "Reciprocal of arr1:\n",
      " [[2.         0.33333333 1.25      ]\n",
      " [0.25       1.         0.14285714]]\n",
      "input array:\n",
      " [[2 3 4]\n",
      " [4 1 7]]\n",
      "Reciprocal of arr1:\n",
      " [[0 0 0]\n",
      " [0 1 0]]\n"
     ]
    }
   ],
   "source": [
    "input_arr1 = np.array([[0.5, 3, 0.8], [4, 1, 7]])\n",
    "input_arr2 = np.array([[2, 3, 4], [4, 1, 7]])\n",
    "\n",
    "# example when array types is float\n",
    "print(\"input array:\\n\", input_arr1)\n",
    "print(\"Reciprocal of arr1:\\n\", np.reciprocal(input_arr1))\n",
    "\n",
    "# example when array type is int\n",
    "print(\"input array:\\n\", input_arr2)\n",
    "print(\"Reciprocal of arr1:\\n\", np.reciprocal(input_arr2))"
   ]
  },
  {
   "cell_type": "code",
   "execution_count": null,
   "id": "4a38c216",
   "metadata": {},
   "outputs": [],
   "source": []
  }
 ],
 "metadata": {
  "kernelspec": {
   "display_name": "Python 3 (ipykernel)",
   "language": "python",
   "name": "python3"
  },
  "language_info": {
   "codemirror_mode": {
    "name": "ipython",
    "version": 3
   },
   "file_extension": ".py",
   "mimetype": "text/x-python",
   "name": "python",
   "nbconvert_exporter": "python",
   "pygments_lexer": "ipython3",
   "version": "3.10.9"
  }
 },
 "nbformat": 4,
 "nbformat_minor": 5
}
