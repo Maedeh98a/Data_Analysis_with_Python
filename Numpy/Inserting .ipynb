{
 "cells": [
  {
   "cell_type": "code",
   "execution_count": 2,
   "id": "9c3d6a42",
   "metadata": {},
   "outputs": [
    {
     "name": "stdout",
     "output_type": "stream",
     "text": [
      "[ 1  2  3 45  6]\n",
      "[ 1  2  3 45  6 10]\n"
     ]
    }
   ],
   "source": [
    "# 1-D array\n",
    "import numpy as np\n",
    "num_array = np.array([1, 2, 3, 45, 6])\n",
    "print(num_array)\n",
    "\n",
    "new_num_array = np.append(num_array,[10])\n",
    "print(new_num_array)"
   ]
  },
  {
   "cell_type": "code",
   "execution_count": 6,
   "id": "d2935ec1",
   "metadata": {},
   "outputs": [
    {
     "name": "stdout",
     "output_type": "stream",
     "text": [
      "\n",
      "Exisiting Array\n",
      " [[1 2 3]\n",
      " [4 5 6]]\n",
      "\n",
      " new array without axis\n",
      " [1 2 3 4 5 6 7 8 9]\n",
      "\n",
      " new array with axis\n",
      " [[1 2 3]\n",
      " [4 5 6]\n",
      " [7 8 9]]\n",
      "\n",
      " new array with axis\n",
      " [[1 2 3 0]\n",
      " [4 5 6 1]]\n"
     ]
    }
   ],
   "source": [
    "# 2-D array\n",
    "a = np.array([[1, 2, 3],[4, 5, 6]])\n",
    "print(f'\\nExisiting Array\\n', a)\n",
    "\n",
    "a1 = np.append(a, [7, 8, 9])\n",
    "print(f'\\n new array without axis\\n', a1)\n",
    "\n",
    "a2 = np.append(a, [[7, 8, 9]], axis=0)\n",
    "print(f'\\n new array with axis\\n', a2)\n",
    "\n",
    "a3 = np.append(a, [[0], [1]], axis=1)\n",
    "print(f'\\n new array with axis\\n', a3)"
   ]
  },
  {
   "cell_type": "code",
   "execution_count": 8,
   "id": "71def40d",
   "metadata": {},
   "outputs": [
    {
     "name": "stdout",
     "output_type": "stream",
     "text": [
      "\n",
      " Existing Array:\n",
      " [ 1  2  3 45  6]\n",
      "\n",
      " new array with inserted element:\n",
      " [ 1 10  2  3 45  6]\n"
     ]
    }
   ],
   "source": [
    "# inserting a new element in exsiting array \n",
    "# np.insert(existing_array, index, value)\n",
    "num_array = np.array([1, 2, 3, 45, 6])\n",
    "print('\\n Existing Array:\\n', num_array)\n",
    "new_num_array = np.insert(num_array,1, [10])\n",
    "print('\\n new array with inserted element:\\n', new_num_array)"
   ]
  },
  {
   "cell_type": "code",
   "execution_count": 10,
   "id": "7a5e9e67",
   "metadata": {},
   "outputs": [
    {
     "name": "stdout",
     "output_type": "stream",
     "text": [
      "\n",
      " Existing Array:\n",
      " [ 1  2  3 45  6]\n",
      "\n",
      " new array with de element:\n",
      " [ 1  3 45  6]\n"
     ]
    }
   ],
   "source": [
    "# deleting an element in existing array\n",
    "# np.delete(ndarray, index)\n",
    "\n",
    "num_array = np.array([1, 2, 3, 45, 6])\n",
    "print('\\n Existing Array:\\n', num_array)\n",
    "\n",
    "new_num_array = np.delete(num_array, 1)\n",
    "print('\\n new array with de element:\\n', new_num_array)"
   ]
  },
  {
   "cell_type": "code",
   "execution_count": 12,
   "id": "60a2deee",
   "metadata": {},
   "outputs": [
    {
     "name": "stdout",
     "output_type": "stream",
     "text": [
      "\n",
      " first array:\n",
      " [[1 2]\n",
      " [3 4]]\n",
      "\n",
      " second array:\n",
      " [[5 6]\n",
      " [7 8]]\n",
      "\n",
      " concated array with default axis\n",
      " [[1 2]\n",
      " [3 4]\n",
      " [5 6]\n",
      " [7 8]]\n",
      "\n",
      " concated array with default axis\n",
      " [[1 2 5 6]\n",
      " [3 4 7 8]]\n"
     ]
    }
   ],
   "source": [
    "# input arrays \n",
    "array_1 = np.array([[1, 2], [3, 4]])\n",
    "array_2 = np.array([[5, 6], [7, 8]])\n",
    "print('\\n first array:\\n', array_1)\n",
    "print('\\n second array:\\n', array_2)\n",
    "\n",
    "# row wise \n",
    "array_concat = np.concatenate((array_1, array_2))\n",
    "print('\\n concated array with default axis\\n', array_concat)\n",
    "\n",
    "# column wise\n",
    "array_concat = np.concatenate((array_1, array_2), axis=1)\n",
    "print('\\n concated array with default axis\\n', array_concat)"
   ]
  },
  {
   "cell_type": "code",
   "execution_count": 13,
   "id": "16ac905d",
   "metadata": {},
   "outputs": [
    {
     "name": "stdout",
     "output_type": "stream",
     "text": [
      "\n",
      " first array:\n",
      " [[1 2]\n",
      " [3 4]]\n",
      "\n",
      " second array:\n",
      " [[5 6]\n",
      " [7 8]]\n",
      "\n",
      " concated array with hstack() :\n",
      " [[1 2 5 6]\n",
      " [3 4 7 8]]\n"
     ]
    }
   ],
   "source": [
    "# np.hstack(): stack the arrays horizontly like concat with axis=1\n",
    "array_1 = np.array([[1, 2], [3, 4]])\n",
    "array_2 = np.array([[5, 6], [7, 8]])\n",
    "print('\\n first array:\\n', array_1)\n",
    "print('\\n second array:\\n', array_2)\n",
    "\n",
    "array_hstacked = np.hstack((array_1, array_2))\n",
    "print('\\n concated array with hstack() :\\n', array_hstacked)\n"
   ]
  },
  {
   "cell_type": "code",
   "execution_count": 14,
   "id": "25887ccb",
   "metadata": {},
   "outputs": [
    {
     "name": "stdout",
     "output_type": "stream",
     "text": [
      "\n",
      " first array:\n",
      " [[1 2]\n",
      " [3 4]]\n",
      "\n",
      " second array:\n",
      " [[5 6]\n",
      " [7 8]]\n",
      "\n",
      " Concated array with vstack() :\n",
      " [[1 2]\n",
      " [3 4]\n",
      " [5 6]\n",
      " [7 8]]\n"
     ]
    }
   ],
   "source": [
    "# np.vstack() : stack the arrays vertically like concat with axis=0\n",
    "\n",
    "# row wise\n",
    "\n",
    "array_1 = np.array([[1, 2], [3, 4]])\n",
    "array_2 = np.array([[5, 6], [7, 8]])\n",
    "print('\\n first array:\\n', array_1)\n",
    "print('\\n second array:\\n', array_2)\n",
    "\n",
    "array_vstacked = np.vstack((array_1, array_2))\n",
    "print('\\n Concated array with vstack() :\\n', array_vstacked)"
   ]
  },
  {
   "cell_type": "code",
   "execution_count": 15,
   "id": "fbefb572",
   "metadata": {},
   "outputs": [
    {
     "name": "stdout",
     "output_type": "stream",
     "text": [
      "\n",
      " Input array before split\n",
      " [1 2 3 4 5 6 7 8]\n",
      "\n",
      " output array after split()\n",
      " [array([1, 2]), array([3, 4]), array([5, 6]), array([7, 8])]\n",
      "\n",
      " output array after split()\n",
      " [array([1, 2, 3, 4]), array([5, 6, 7, 8])]\n"
     ]
    }
   ],
   "source": [
    "a = np.array([1, 2, 3, 4, 5, 6, 7, 8])\n",
    "\n",
    "print('\\n Input array before split\\n', a)\n",
    "\n",
    "print(\"\\n output array after split()\\n\", np.split(a, 4))\n",
    "print(\"\\n output array after split()\\n\", np.split(a, 2))"
   ]
  },
  {
   "cell_type": "code",
   "execution_count": 16,
   "id": "beef3bc7",
   "metadata": {},
   "outputs": [
    {
     "name": "stdout",
     "output_type": "stream",
     "text": [
      "\n",
      " Input array before split\n",
      " [[1 2 3 4]\n",
      " [6 7 8 9]]\n",
      "\n",
      " output  horizental array 1\n",
      " [[1 2]\n",
      " [6 7]]\n",
      "\n",
      " output  horizental array 2)\n",
      " [[3 4]\n",
      " [8 9]]\n"
     ]
    }
   ],
   "source": [
    "array_input = np.array([(1, 2, 3, 4), (6, 7, 8, 9)])\n",
    "array_1, array_2 = np.hsplit(array_input, 2)\n",
    "\n",
    "print('\\n Input array before split\\n', array_input)\n",
    "print(\"\\n output  horizental array 1\\n\", array_1)\n",
    "print(\"\\n output  horizental array 2)\\n\", array_2)"
   ]
  },
  {
   "cell_type": "code",
   "execution_count": 17,
   "id": "9e9e2adf",
   "metadata": {},
   "outputs": [
    {
     "name": "stdout",
     "output_type": "stream",
     "text": [
      "\n",
      " Input array before split\n",
      " [[ 1  2  3  4 10 11]\n",
      " [ 6  7  8  9 10 11]]\n",
      "\n",
      " output vertical  array 1\n",
      " [[ 1  2  3  4 10 11]]\n",
      "\n",
      " output  vertical array 2)\n",
      " [[ 6  7  8  9 10 11]]\n"
     ]
    }
   ],
   "source": [
    "array_input = np.array([(1, 2, 3, 4, 10, 11), (6, 7, 8, 9, 10, 11)])\n",
    "array_1, array_2 = np.vsplit(array_input, 2)\n",
    "print('\\n Input array before split\\n', array_input)\n",
    "print(\"\\n output vertical  array 1\\n\", array_1)\n",
    "print(\"\\n output  vertical array 2)\\n\", array_2)"
   ]
  },
  {
   "cell_type": "code",
   "execution_count": null,
   "id": "c5389769",
   "metadata": {},
   "outputs": [],
   "source": []
  }
 ],
 "metadata": {
  "kernelspec": {
   "display_name": "Python 3 (ipykernel)",
   "language": "python",
   "name": "python3"
  },
  "language_info": {
   "codemirror_mode": {
    "name": "ipython",
    "version": 3
   },
   "file_extension": ".py",
   "mimetype": "text/x-python",
   "name": "python",
   "nbconvert_exporter": "python",
   "pygments_lexer": "ipython3",
   "version": "3.10.9"
  }
 },
 "nbformat": 4,
 "nbformat_minor": 5
}
