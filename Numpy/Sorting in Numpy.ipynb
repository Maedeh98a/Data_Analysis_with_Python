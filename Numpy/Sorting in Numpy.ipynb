{
 "cells": [
  {
   "cell_type": "code",
   "execution_count": 1,
   "id": "91e5a549",
   "metadata": {},
   "outputs": [
    {
     "name": "stdout",
     "output_type": "stream",
     "text": [
      "input array is :\n",
      " [[11 14]\n",
      " [13 11]]\n",
      "\n",
      " output sorted array when no axis defined means default axis:\n",
      " [[11 14]\n",
      " [11 13]]\n",
      "\n",
      " output sorted array when axis=None:\n",
      " [11 11 13 14]\n",
      "\n",
      " output sorted array when axis=None:\n",
      " [[11 11]\n",
      " [13 14]]\n"
     ]
    }
   ],
   "source": [
    "import numpy as np\n",
    "\n",
    "a = np.array([[11, 14], [13, 11]])\n",
    "print(\"input array is :\\n\", a)\n",
    "\n",
    "out1 = np.sort(a)\n",
    "print(\"\\n output sorted array when no axis defined means default axis:\\n\", out1)\n",
    "\n",
    "# sort the flattened array\n",
    "out2 = np.sort(a, axis=None)\n",
    "print(\"\\n output sorted array when axis=None:\\n\", out2)\n",
    "\n",
    "out3 = np.sort(a, axis=0)\n",
    "print(\"\\n output sorted array when axis=None:\\n\", out3)"
   ]
  },
  {
   "cell_type": "code",
   "execution_count": null,
   "id": "24f52064",
   "metadata": {},
   "outputs": [],
   "source": []
  }
 ],
 "metadata": {
  "kernelspec": {
   "display_name": "Python 3 (ipykernel)",
   "language": "python",
   "name": "python3"
  },
  "language_info": {
   "codemirror_mode": {
    "name": "ipython",
    "version": 3
   },
   "file_extension": ".py",
   "mimetype": "text/x-python",
   "name": "python",
   "nbconvert_exporter": "python",
   "pygments_lexer": "ipython3",
   "version": "3.10.9"
  }
 },
 "nbformat": 4,
 "nbformat_minor": 5
}
