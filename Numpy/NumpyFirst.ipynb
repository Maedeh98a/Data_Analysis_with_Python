{
 "cells": [
  {
   "cell_type": "code",
   "execution_count": 1,
   "id": "1c85aa76",
   "metadata": {},
   "outputs": [
    {
     "name": "stdout",
     "output_type": "stream",
     "text": [
      "[1 2 3 4 5]\n",
      "[2 3 4 5]\n"
     ]
    }
   ],
   "source": [
    "import numpy as np\n",
    "array1_1D = np.array([1, 2, 3, 4, 5])\n",
    "array2_1D = np.array((2, 3, 4, 5))\n",
    "print(array1_1D)\n",
    "print(array2_1D)\n"
   ]
  },
  {
   "cell_type": "code",
   "execution_count": 2,
   "id": "0dee1790",
   "metadata": {},
   "outputs": [
    {
     "name": "stdout",
     "output_type": "stream",
     "text": [
      "[[1 3 5]\n",
      " [2 4 6]]\n"
     ]
    }
   ],
   "source": [
    "# make the 2domensial array\n",
    "array3_2D = np.array([(1, 3, 5), (2, 4, 6)])\n",
    "\n",
    "print(array3_1D)"
   ]
  },
  {
   "cell_type": "code",
   "execution_count": 3,
   "id": "c6270148",
   "metadata": {},
   "outputs": [
    {
     "name": "stdout",
     "output_type": "stream",
     "text": [
      "[1.+0.j 3.+0.j 5.+0.j]\n"
     ]
    }
   ],
   "source": [
    "# make the complex array\n",
    "array1_1D_complex = np.array([1, 3, 5], dtype='complex')\n",
    "print(array1_1D_complex)"
   ]
  },
  {
   "cell_type": "code",
   "execution_count": 5,
   "id": "cde59320",
   "metadata": {},
   "outputs": [
    {
     "data": {
      "text/plain": [
       "array([[0., 0., 0.],\n",
       "       [0., 0., 0.]])"
      ]
     },
     "execution_count": 5,
     "metadata": {},
     "output_type": "execute_result"
    }
   ],
   "source": [
    "# array with zeros\n",
    "array_zeros = np.zeros((2, 3))\n",
    "array_zeros"
   ]
  },
  {
   "cell_type": "code",
   "execution_count": 14,
   "id": "b7531d55",
   "metadata": {},
   "outputs": [
    {
     "name": "stdout",
     "output_type": "stream",
     "text": [
      "<class 'numpy.ndarray'>\n"
     ]
    },
    {
     "data": {
      "text/plain": [
       "array([[1., 1., 1., 1.],\n",
       "       [1., 1., 1., 1.],\n",
       "       [1., 1., 1., 1.]])"
      ]
     },
     "execution_count": 14,
     "metadata": {},
     "output_type": "execute_result"
    }
   ],
   "source": [
    "# array with ones\n",
    "array_ones = np.ones((3, 4))\n",
    "print(type(array_ones))\n",
    "array_ones"
   ]
  },
  {
   "cell_type": "code",
   "execution_count": 7,
   "id": "9e77b071",
   "metadata": {},
   "outputs": [
    {
     "data": {
      "text/plain": [
       "array([[0.00000000e+000, 0.00000000e+000, 0.00000000e+000],\n",
       "       [0.00000000e+000, 0.00000000e+000, 7.07502005e-321],\n",
       "       [8.45603440e-307, 4.45046007e-307, 2.37667058e-312]])"
      ]
     },
     "execution_count": 7,
     "metadata": {},
     "output_type": "execute_result"
    }
   ],
   "source": [
    "# empty function ===> return the array with random values\n",
    "array_empty = np.empty((3, 3))\n",
    "array_empty"
   ]
  },
  {
   "cell_type": "code",
   "execution_count": 10,
   "id": "d1c9db2b",
   "metadata": {},
   "outputs": [
    {
     "name": "stdout",
     "output_type": "stream",
     "text": [
      "[1 2 4]\n"
     ]
    }
   ],
   "source": [
    "# creating array with python list\n",
    "t1 = [1, 2, 4]\n",
    "print(np.asarray(t1, dtype='int16'))\n"
   ]
  },
  {
   "cell_type": "code",
   "execution_count": 17,
   "id": "7dfd1400",
   "metadata": {},
   "outputs": [
    {
     "name": "stdout",
     "output_type": "stream",
     "text": [
      "<class 'numpy.ndarray'>\n",
      "[[1 2 3]\n",
      " [2 3 4]]\n"
     ]
    },
    {
     "data": {
      "text/plain": [
       "array([[1, 2, 3],\n",
       "       [2, 3, 4]], dtype=int16)"
      ]
     },
     "execution_count": 17,
     "metadata": {},
     "output_type": "execute_result"
    }
   ],
   "source": [
    "\n",
    "t2 = [[1, 2, 3], [2, 3, 4]]\n",
    "t2_array = np.asarray(t2, dtype='int16')\n",
    "print(type(t2_array))\n",
    "print(t2_array)\n",
    "t2_array\n",
    "\n",
    "# if we use print for show our array the oupt doesn't have a comma, but if we just use the variable our output has an comma."
   ]
  },
  {
   "cell_type": "code",
   "execution_count": 19,
   "id": "f8caf2a5",
   "metadata": {},
   "outputs": [
    {
     "name": "stdout",
     "output_type": "stream",
     "text": [
      "[1 2 4]\n"
     ]
    }
   ],
   "source": [
    "# using the tuple\n",
    "t1 = ((1, 2, 4))\n",
    "print(np.asarray(t1, dtype='int16'))"
   ]
  },
  {
   "cell_type": "code",
   "execution_count": 21,
   "id": "20f71d99",
   "metadata": {},
   "outputs": [
    {
     "data": {
      "text/plain": [
       "array([[1, 2, 3],\n",
       "       [2, 3, 4]], dtype=int16)"
      ]
     },
     "execution_count": 21,
     "metadata": {},
     "output_type": "execute_result"
    }
   ],
   "source": [
    "t2 = ((1, 2, 3), (2, 3, 4))\n",
    "t2_array = np.asarray(t2, dtype='int16')\n",
    "t2_array"
   ]
  },
  {
   "cell_type": "code",
   "execution_count": 22,
   "id": "46314246",
   "metadata": {},
   "outputs": [
    {
     "data": {
      "text/plain": [
       "array([1, 3, 5, 7, 9])"
      ]
     },
     "execution_count": 22,
     "metadata": {},
     "output_type": "execute_result"
    }
   ],
   "source": [
    "# creating array using arange() function\n",
    "# np.arrange(start, stop, step, dtype)\n",
    "np.arange(1, 10, 2)"
   ]
  },
  {
   "cell_type": "code",
   "execution_count": 23,
   "id": "f9438bee",
   "metadata": {},
   "outputs": [
    {
     "name": "stdout",
     "output_type": "stream",
     "text": [
      "Array :  [ 1  2  3 45] \n",
      "DataType: int32\n"
     ]
    }
   ],
   "source": [
    "import numpy as np\n",
    "a = np.array([1, 2, 3, 45,], dtype='int')\n",
    "print(\"Array : \", a, \"\\nDataType:\", a.dtype)"
   ]
  },
  {
   "cell_type": "code",
   "execution_count": null,
   "id": "a71917ab",
   "metadata": {},
   "outputs": [],
   "source": []
  }
 ],
 "metadata": {
  "kernelspec": {
   "display_name": "Python 3 (ipykernel)",
   "language": "python",
   "name": "python3"
  },
  "language_info": {
   "codemirror_mode": {
    "name": "ipython",
    "version": 3
   },
   "file_extension": ".py",
   "mimetype": "text/x-python",
   "name": "python",
   "nbconvert_exporter": "python",
   "pygments_lexer": "ipython3",
   "version": "3.10.9"
  }
 },
 "nbformat": 4,
 "nbformat_minor": 5
}
