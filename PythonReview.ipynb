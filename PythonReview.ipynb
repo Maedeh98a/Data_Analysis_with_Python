{
 "cells": [
  {
   "cell_type": "code",
   "execution_count": 1,
   "id": "b454f389",
   "metadata": {},
   "outputs": [
    {
     "name": "stdout",
     "output_type": "stream",
     "text": [
      "hello\n"
     ]
    }
   ],
   "source": [
    "print(\"hello\")"
   ]
  },
  {
   "cell_type": "code",
   "execution_count": 3,
   "id": "ebf0f8ab",
   "metadata": {},
   "outputs": [
    {
     "name": "stdout",
     "output_type": "stream",
     "text": [
      " bitwise and => 8\n",
      " bitwise or => 10\n",
      " bitwise xor => 2\n",
      " bitwise not => -11\n"
     ]
    }
   ],
   "source": [
    " a = 10\n",
    " b = 8\n",
    "print(f' bitwise and => {a & b}')\n",
    "print(f' bitwise or => {a | b}')\n",
    "print(f' bitwise xor => {a ^ b}')\n",
    "print(f' bitwise not => {~a}')\n",
    "# shift?\n"
   ]
  },
  {
   "cell_type": "code",
   "execution_count": 8,
   "id": "3e59de3b",
   "metadata": {},
   "outputs": [
    {
     "name": "stdout",
     "output_type": "stream",
     "text": [
      "<class 'int'>\n",
      "<class 'complex'>\n"
     ]
    }
   ],
   "source": [
    "c = 10 + 5j\n",
    "a = 10\n",
    "print(type(a))\n",
    "print(type(c))"
   ]
  },
  {
   "cell_type": "code",
   "execution_count": 9,
   "id": "b1e30021",
   "metadata": {},
   "outputs": [
    {
     "name": "stdout",
     "output_type": "stream",
     "text": [
      "(10+3j)\n"
     ]
    }
   ],
   "source": [
    "a = 10\n",
    "b = 3\n",
    "z = complex(a, b)\n",
    "print(z)"
   ]
  },
  {
   "cell_type": "code",
   "execution_count": 16,
   "id": "28169c96",
   "metadata": {},
   "outputs": [
    {
     "name": "stdout",
     "output_type": "stream",
     "text": [
      "True\n",
      "True\n",
      "False\n",
      "True\n"
     ]
    }
   ],
   "source": [
    "c = \"12345\"\n",
    "v = \"sjeihd\"\n",
    "print(c.isalnum())\n",
    "print(v.isalnum())\n",
    "print(v.isdigit())\n",
    "print(c.isdigit())"
   ]
  },
  {
   "cell_type": "code",
   "execution_count": 14,
   "id": "ba77797d",
   "metadata": {},
   "outputs": [
    {
     "name": "stdout",
     "output_type": "stream",
     "text": [
      "C\n"
     ]
    }
   ],
   "source": [
    "student_grade = 3\n",
    "student_attempt = \"first\"\n",
    "if student_grade >= 90:\n",
    "    if student_attempt == \"first\":\n",
    "        print(\"A\")\n",
    "    elif student_attempt == \"second\":\n",
    "        print(\"B\")\n",
    "else:\n",
    "    print(\"C\")"
   ]
  },
  {
   "cell_type": "code",
   "execution_count": 15,
   "id": "2f676137",
   "metadata": {},
   "outputs": [
    {
     "name": "stdout",
     "output_type": "stream",
     "text": [
      "1\n",
      "2\n",
      "3\n",
      "4\n",
      "5\n"
     ]
    }
   ],
   "source": [
    "i = 1\n",
    "while i <= 5:\n",
    "    print(i)\n",
    "    i = i + 1"
   ]
  },
  {
   "cell_type": "code",
   "execution_count": 19,
   "id": "9cb81ff6",
   "metadata": {},
   "outputs": [
    {
     "name": "stdout",
     "output_type": "stream",
     "text": [
      "1 is odd\n",
      "2 is even\n",
      "3 is odd\n",
      "4 is even\n",
      "5 is odd\n",
      "6 is even\n",
      "7 is odd\n",
      "8 is even\n",
      "9 is odd\n",
      "10 is even\n"
     ]
    }
   ],
   "source": [
    "i = 1\n",
    "while i <= 10:\n",
    "    if i % 2 == 0:\n",
    "        print(f'{i} is even')\n",
    "    else:\n",
    "        print(f'{i} is odd')\n",
    "    i += 1"
   ]
  },
  {
   "cell_type": "code",
   "execution_count": 23,
   "id": "4173fed5",
   "metadata": {
    "scrolled": true
   },
   "outputs": [
    {
     "name": "stdout",
     "output_type": "stream",
     "text": [
      "1 is odd\n",
      "2 is even\n",
      "3 is odd\n",
      "4 is even\n",
      "5 is odd\n",
      "6 is even\n",
      "7 is odd\n",
      "8 is even\n",
      "9 is odd\n",
      "10 is even\n"
     ]
    }
   ],
   "source": [
    "num_list = [1, 2, 3, 4, 5, 6, 7, 8, 9, 10]\n",
    "for i in num_list:\n",
    "    if i % 2 == 0:\n",
    "        print(f'{i} is even')\n",
    "    else:\n",
    "        print(f'{i} is odd')\n",
    "        \n",
    "        "
   ]
  },
  {
   "cell_type": "code",
   "execution_count": 24,
   "id": "d3d8322a",
   "metadata": {},
   "outputs": [
    {
     "name": "stdout",
     "output_type": "stream",
     "text": [
      "[[3, 5, 7], [5, 7, 9], [7, 9, 11]]\n"
     ]
    }
   ],
   "source": [
    "num1 = [1, 3, 5]\n",
    "num2 = [2, 4, 6]\n",
    "result = []\n",
    "for nu1 in num1:\n",
    "    temp = []\n",
    "    for nu2 in num2:\n",
    "        temp.append(nu1+nu2)\n",
    "    result.append(temp)\n",
    "print(result)"
   ]
  },
  {
   "cell_type": "code",
   "execution_count": 26,
   "id": "71f9206e",
   "metadata": {},
   "outputs": [
    {
     "name": "stdout",
     "output_type": "stream",
     "text": [
      "fruit: Mango\n",
      "\n",
      "loop got terminated\n"
     ]
    }
   ],
   "source": [
    "fruits_basket = ['Mango', 'Apple', 'Orange', 'Grapes']\n",
    "for fruit in fruits_basket:\n",
    "    if fruit == 'Apple':\n",
    "        break\n",
    "    print(\"fruit:\", fruit)\n",
    "print(\"\\nloop got terminated\")"
   ]
  },
  {
   "cell_type": "code",
   "execution_count": 27,
   "id": "0d338521",
   "metadata": {
    "scrolled": true
   },
   "outputs": [
    {
     "name": "stdout",
     "output_type": "stream",
     "text": [
      "fruit: Mango\n",
      "fruit: Orange\n",
      "fruit: Grapes\n",
      "\n",
      "loop got terminated\n"
     ]
    }
   ],
   "source": [
    "fruits_basket = ['Mango', 'Apple', 'Orange', 'Grapes']\n",
    "for fruit in fruits_basket:\n",
    "    if fruit == 'Apple':\n",
    "        continue\n",
    "    print(\"fruit:\", fruit)\n",
    "print(\"\\nloop got terminated\")\n",
    "\n"
   ]
  },
  {
   "cell_type": "code",
   "execution_count": 28,
   "id": "7fa64790",
   "metadata": {},
   "outputs": [
    {
     "name": "stdout",
     "output_type": "stream",
     "text": [
      "fruit: Mango\n",
      "Got apple\n",
      "fruit: Apple\n",
      "fruit: Orange\n",
      "fruit: Grapes\n",
      "\n",
      "loop got terminated\n"
     ]
    }
   ],
   "source": [
    "fruits_basket = ['Mango', 'Apple', 'Orange', 'Grapes']\n",
    "for fruit in fruits_basket:\n",
    "    if fruit == 'Apple':\n",
    "        print(\"Got apple\")\n",
    "    print(\"fruit:\", fruit)\n",
    "print(\"\\nloop got terminated\")"
   ]
  },
  {
   "cell_type": "code",
   "execution_count": 30,
   "id": "20528690",
   "metadata": {},
   "outputs": [
    {
     "data": {
      "text/plain": [
       "62"
      ]
     },
     "execution_count": 30,
     "metadata": {},
     "output_type": "execute_result"
    }
   ],
   "source": [
    "def add_number(*args):\n",
    "    result = 0\n",
    "    for i in args:\n",
    "        result = result + i\n",
    "    return result\n",
    "\n",
    "add_number(1, 4, 34, 23)"
   ]
  },
  {
   "cell_type": "code",
   "execution_count": 31,
   "id": "c0ab1f28",
   "metadata": {},
   "outputs": [
    {
     "name": "stdout",
     "output_type": "stream",
     "text": [
      "My name is Maedeh I'm 25 I work as developer in Netherlands\n"
     ]
    }
   ],
   "source": [
    "def selfIntro(**kwargs):\n",
    "    values = list(kwargs.values())\n",
    "    print(\"My name is {} I'm {} I work as {} in {}\".format(values[0], values[1], values[2], values[3]))\n",
    "\n",
    "selfIntro(name='Maedeh', age=25, career='developer', country='Netherlands')"
   ]
  },
  {
   "cell_type": "code",
   "execution_count": 32,
   "id": "770c6fe3",
   "metadata": {},
   "outputs": [
    {
     "data": {
      "text/plain": [
       "40"
      ]
     },
     "execution_count": 32,
     "metadata": {},
     "output_type": "execute_result"
    }
   ],
   "source": [
    "twoNumberAddition = lambda a, b: a + b\n",
    "twoNumberAddition(10, 30)"
   ]
  },
  {
   "cell_type": "code",
   "execution_count": 36,
   "id": "ee4554ba",
   "metadata": {},
   "outputs": [
    {
     "name": "stdout",
     "output_type": "stream",
     "text": [
      "[1, 25, 2025, 1156]\n"
     ]
    }
   ],
   "source": [
    "number_list = [1, 5, 45, 34]\n",
    "squred = list(map(lambda num:num ** 2, number_list))\n",
    "\n",
    "print(squred)"
   ]
  },
  {
   "cell_type": "code",
   "execution_count": 37,
   "id": "8da4b7d4",
   "metadata": {},
   "outputs": [
    {
     "name": "stdout",
     "output_type": "stream",
     "text": [
      "[6, 8, 98, 0]\n"
     ]
    }
   ],
   "source": [
    "ji = [3, 6, 8, 98, 5, 67, 0]\n",
    "even = list(filter(lambda num: num % 2 == 0, ji))\n",
    "print(even)"
   ]
  },
  {
   "cell_type": "code",
   "execution_count": 41,
   "id": "5895b035",
   "metadata": {},
   "outputs": [
    {
     "name": "stdout",
     "output_type": "stream",
     "text": [
      "data type of num_series :<class 'pandas.core.series.Series'>\n"
     ]
    },
    {
     "data": {
      "text/plain": [
       "0    1\n",
       "1    2\n",
       "2    3\n",
       "3    4\n",
       "4    5\n",
       "dtype: int64"
      ]
     },
     "execution_count": 41,
     "metadata": {},
     "output_type": "execute_result"
    }
   ],
   "source": [
    "import pandas as pd\n",
    "import numpy as np\n",
    "num_list = [1, 2, 3, 4, 5]\n",
    "num_series = pd.Series(num_list)\n",
    "print('data type of num_series :{}'.format(type(num_series)))\n",
    "num_series"
   ]
  },
  {
   "cell_type": "code",
   "execution_count": 42,
   "id": "9417d40b",
   "metadata": {},
   "outputs": [
    {
     "name": "stdout",
     "output_type": "stream",
     "text": [
      "data type of num_series: <class 'pandas.core.frame.DataFrame'>\n"
     ]
    },
    {
     "data": {
      "text/html": [
       "<div>\n",
       "<style scoped>\n",
       "    .dataframe tbody tr th:only-of-type {\n",
       "        vertical-align: middle;\n",
       "    }\n",
       "\n",
       "    .dataframe tbody tr th {\n",
       "        vertical-align: top;\n",
       "    }\n",
       "\n",
       "    .dataframe thead th {\n",
       "        text-align: right;\n",
       "    }\n",
       "</style>\n",
       "<table border=\"1\" class=\"dataframe\">\n",
       "  <thead>\n",
       "    <tr style=\"text-align: right;\">\n",
       "      <th></th>\n",
       "      <th>number</th>\n",
       "    </tr>\n",
       "  </thead>\n",
       "  <tbody>\n",
       "    <tr>\n",
       "      <th>0</th>\n",
       "      <td>1</td>\n",
       "    </tr>\n",
       "    <tr>\n",
       "      <th>1</th>\n",
       "      <td>2</td>\n",
       "    </tr>\n",
       "    <tr>\n",
       "      <th>2</th>\n",
       "      <td>3</td>\n",
       "    </tr>\n",
       "    <tr>\n",
       "      <th>3</th>\n",
       "      <td>4</td>\n",
       "    </tr>\n",
       "    <tr>\n",
       "      <th>4</th>\n",
       "      <td>5</td>\n",
       "    </tr>\n",
       "  </tbody>\n",
       "</table>\n",
       "</div>"
      ],
      "text/plain": [
       "   number\n",
       "0       1\n",
       "1       2\n",
       "2       3\n",
       "3       4\n",
       "4       5"
      ]
     },
     "execution_count": 42,
     "metadata": {},
     "output_type": "execute_result"
    }
   ],
   "source": [
    "import pandas as pd\n",
    "import numpy as np\n",
    "num_list = [1, 2, 3, 4, 5]\n",
    "num_df = pd.DataFrame(num_list, columns = ['number'])\n",
    "print(\"data type of num_series: {}\".format(type(num_df)))\n",
    "num_df"
   ]
  },
  {
   "cell_type": "code",
   "execution_count": null,
   "id": "32657a83",
   "metadata": {},
   "outputs": [],
   "source": [
    "import pandas as pd\n",
    "import numpy as np\n",
    "num_list = {}"
   ]
  }
 ],
 "metadata": {
  "kernelspec": {
   "display_name": "Python 3 (ipykernel)",
   "language": "python",
   "name": "python3"
  },
  "language_info": {
   "codemirror_mode": {
    "name": "ipython",
    "version": 3
   },
   "file_extension": ".py",
   "mimetype": "text/x-python",
   "name": "python",
   "nbconvert_exporter": "python",
   "pygments_lexer": "ipython3",
   "version": "3.10.9"
  }
 },
 "nbformat": 4,
 "nbformat_minor": 5
}
