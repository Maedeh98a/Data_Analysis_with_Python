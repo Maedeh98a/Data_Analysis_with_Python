{
 "cells": [
  {
   "cell_type": "code",
   "execution_count": 3,
   "id": "64da579b",
   "metadata": {},
   "outputs": [],
   "source": [
    "import pandas as pd\n",
    "import numpy as np\n",
    "emp_dict = {'emp_id':[101, 105, 108, 111],\n",
    "           'city':['ahvaz', ' yazd', 'qom', 'aras']}\n",
    "\n",
    "df = pd.DataFrame(emp_dict)"
   ]
  },
  {
   "cell_type": "code",
   "execution_count": 5,
   "id": "9f36ee1c",
   "metadata": {},
   "outputs": [],
   "source": [
    "df.to_csv(\"D:\\Downlods\\out.csv\")"
   ]
  },
  {
   "cell_type": "code",
   "execution_count": 6,
   "id": "9888f4ed",
   "metadata": {},
   "outputs": [],
   "source": [
    "df.to_csv(\"D:\\Downlods\\out1.csv\", index=False)"
   ]
  },
  {
   "cell_type": "code",
   "execution_count": 8,
   "id": "6aab6ad0",
   "metadata": {},
   "outputs": [],
   "source": [
    "df.to_csv(\"D:\\Downlods\\out2.csv\", index=False, sep=\"|\")"
   ]
  },
  {
   "cell_type": "code",
   "execution_count": 9,
   "id": "d41f6c4f",
   "metadata": {},
   "outputs": [],
   "source": [
    "df.to_csv(\"D:\\Downlods\\out3.txt\", index=False, sep=\"|\")"
   ]
  },
  {
   "cell_type": "code",
   "execution_count": 11,
   "id": "7f20eb25",
   "metadata": {},
   "outputs": [],
   "source": [
    "df.to_excel(\"D:\\Downlods\\out4.xlsx\", index=False)"
   ]
  },
  {
   "cell_type": "code",
   "execution_count": 12,
   "id": "4709dce6",
   "metadata": {},
   "outputs": [],
   "source": [
    "df.to_json(\"D:\\Downlods\\out5.json\")"
   ]
  },
  {
   "cell_type": "code",
   "execution_count": null,
   "id": "5fbda2c9",
   "metadata": {},
   "outputs": [],
   "source": []
  }
 ],
 "metadata": {
  "kernelspec": {
   "display_name": "Python 3 (ipykernel)",
   "language": "python",
   "name": "python3"
  },
  "language_info": {
   "codemirror_mode": {
    "name": "ipython",
    "version": 3
   },
   "file_extension": ".py",
   "mimetype": "text/x-python",
   "name": "python",
   "nbconvert_exporter": "python",
   "pygments_lexer": "ipython3",
   "version": "3.10.9"
  }
 },
 "nbformat": 4,
 "nbformat_minor": 5
}
