{
 "cells": [
  {
   "cell_type": "code",
   "execution_count": 4,
   "id": "d7dd5550",
   "metadata": {},
   "outputs": [],
   "source": [
    "import pandas as pd\n",
    "import numpy as np\n",
    "emp_dict = {'emp_id':[101, 105, 108, 111],\n",
    "           'city':['ahvaz', ' yazd', 'qom', 'aras']}\n",
    "dept_dict = {'emp_id':[101, 105, 108, 100],\n",
    "            'dept':['Customer', 'legal', 'public', 'advertising']}\n",
    "\n",
    "emp_df = pd.DataFrame(emp_dict)\n",
    "dept_df = pd.DataFrame(dept_dict)\n"
   ]
  },
  {
   "cell_type": "code",
   "execution_count": 5,
   "id": "93f64d73",
   "metadata": {},
   "outputs": [
    {
     "data": {
      "text/html": [
       "<div>\n",
       "<style scoped>\n",
       "    .dataframe tbody tr th:only-of-type {\n",
       "        vertical-align: middle;\n",
       "    }\n",
       "\n",
       "    .dataframe tbody tr th {\n",
       "        vertical-align: top;\n",
       "    }\n",
       "\n",
       "    .dataframe thead th {\n",
       "        text-align: right;\n",
       "    }\n",
       "</style>\n",
       "<table border=\"1\" class=\"dataframe\">\n",
       "  <thead>\n",
       "    <tr style=\"text-align: right;\">\n",
       "      <th></th>\n",
       "      <th>emp_id_left</th>\n",
       "      <th>city</th>\n",
       "      <th>emp_id_right</th>\n",
       "      <th>dept</th>\n",
       "    </tr>\n",
       "  </thead>\n",
       "  <tbody>\n",
       "    <tr>\n",
       "      <th>0</th>\n",
       "      <td>101</td>\n",
       "      <td>ahvaz</td>\n",
       "      <td>101</td>\n",
       "      <td>Customer</td>\n",
       "    </tr>\n",
       "    <tr>\n",
       "      <th>1</th>\n",
       "      <td>105</td>\n",
       "      <td>yazd</td>\n",
       "      <td>105</td>\n",
       "      <td>legal</td>\n",
       "    </tr>\n",
       "    <tr>\n",
       "      <th>2</th>\n",
       "      <td>108</td>\n",
       "      <td>qom</td>\n",
       "      <td>108</td>\n",
       "      <td>public</td>\n",
       "    </tr>\n",
       "    <tr>\n",
       "      <th>3</th>\n",
       "      <td>111</td>\n",
       "      <td>aras</td>\n",
       "      <td>100</td>\n",
       "      <td>advertising</td>\n",
       "    </tr>\n",
       "  </tbody>\n",
       "</table>\n",
       "</div>"
      ],
      "text/plain": [
       "   emp_id_left   city  emp_id_right         dept\n",
       "0          101  ahvaz           101     Customer\n",
       "1          105   yazd           105        legal\n",
       "2          108    qom           108       public\n",
       "3          111   aras           100  advertising"
      ]
     },
     "execution_count": 5,
     "metadata": {},
     "output_type": "execute_result"
    }
   ],
   "source": [
    "# joining on index\n",
    "joined_df = emp_df.join(dept_df, lsuffix='_left', rsuffix='_right', how='inner')\n",
    "joined_df"
   ]
  },
  {
   "cell_type": "code",
   "execution_count": null,
   "id": "adc69d4a",
   "metadata": {},
   "outputs": [],
   "source": [
    "#??????????????????????? join"
   ]
  }
 ],
 "metadata": {
  "kernelspec": {
   "display_name": "Python 3 (ipykernel)",
   "language": "python",
   "name": "python3"
  },
  "language_info": {
   "codemirror_mode": {
    "name": "ipython",
    "version": 3
   },
   "file_extension": ".py",
   "mimetype": "text/x-python",
   "name": "python",
   "nbconvert_exporter": "python",
   "pygments_lexer": "ipython3",
   "version": "3.10.9"
  }
 },
 "nbformat": 4,
 "nbformat_minor": 5
}
